{
 "cells": [
  {
   "cell_type": "code",
   "execution_count": 5,
   "id": "102f9084-2754-4918-a932-501176f48fe0",
   "metadata": {},
   "outputs": [],
   "source": [
    "#Question 1\n",
    "a = \"gaurav\""
   ]
  },
  {
   "cell_type": "code",
   "execution_count": 6,
   "id": "4aa078bf-51f5-4766-9ada-316ad97a313d",
   "metadata": {},
   "outputs": [
    {
     "data": {
      "text/plain": [
       "str"
      ]
     },
     "execution_count": 6,
     "metadata": {},
     "output_type": "execute_result"
    }
   ],
   "source": [
    "type(a)"
   ]
  },
  {
   "cell_type": "code",
   "execution_count": 7,
   "id": "49b46599-4f35-4c6d-9ef9-b1458a5e485f",
   "metadata": {},
   "outputs": [],
   "source": [
    "b = 1,2,3,4,5,6 ,[\"gaurav\"] , 33.22"
   ]
  },
  {
   "cell_type": "code",
   "execution_count": 8,
   "id": "1c863aa4-263f-4487-b895-b695cc9cbc41",
   "metadata": {},
   "outputs": [
    {
     "data": {
      "text/plain": [
       "tuple"
      ]
     },
     "execution_count": 8,
     "metadata": {},
     "output_type": "execute_result"
    }
   ],
   "source": [
    "type(b)"
   ]
  },
  {
   "cell_type": "code",
   "execution_count": 12,
   "id": "b87fac13-4a37-4710-9b0f-683cf3920611",
   "metadata": {},
   "outputs": [],
   "source": [
    "c = 23.21"
   ]
  },
  {
   "cell_type": "code",
   "execution_count": 13,
   "id": "c88c0df7-4616-466b-91da-ef79951e1b6b",
   "metadata": {},
   "outputs": [
    {
     "data": {
      "text/plain": [
       "float"
      ]
     },
     "execution_count": 13,
     "metadata": {},
     "output_type": "execute_result"
    }
   ],
   "source": [
    "type(c)"
   ]
  },
  {
   "cell_type": "code",
   "execution_count": 14,
   "id": "09f5389b-7bcc-4056-a6db-b8f0d4087872",
   "metadata": {},
   "outputs": [],
   "source": [
    "d = [0,1,2,3,4,5,6,7,8,9]"
   ]
  },
  {
   "cell_type": "code",
   "execution_count": 15,
   "id": "75b01ebf-982b-4b3c-9798-0ba95dd12cf5",
   "metadata": {},
   "outputs": [
    {
     "data": {
      "text/plain": [
       "list"
      ]
     },
     "execution_count": 15,
     "metadata": {},
     "output_type": "execute_result"
    }
   ],
   "source": [
    "type(d)"
   ]
  },
  {
   "cell_type": "code",
   "execution_count": 22,
   "id": "9af6a124-acbe-4177-8d14-f2cae2e152cb",
   "metadata": {
    "tags": []
   },
   "outputs": [
    {
     "ename": "SyntaxError",
     "evalue": "invalid syntax (547941372.py, line 3)",
     "output_type": "error",
     "traceback": [
      "\u001b[0;36m  Cell \u001b[0;32mIn[22], line 3\u001b[0;36m\u001b[0m\n\u001b[0;31m    The / operator is the division operator in most programming languages. It is used to divide one number by another.\u001b[0m\n\u001b[0m                          ^\u001b[0m\n\u001b[0;31mSyntaxError\u001b[0m\u001b[0;31m:\u001b[0m invalid syntax\n"
     ]
    }
   ],
   "source": [
    "#Question3 \n",
    "\n",
    "The / operator is the division operator in most programming languages. It is used to divide one number by another. "
   ]
  },
  {
   "cell_type": "code",
   "execution_count": 23,
   "id": "8fe439e7-68b2-4582-8726-46ea89158919",
   "metadata": {},
   "outputs": [
    {
     "name": "stdout",
     "output_type": "stream",
     "text": [
      "2.0\n"
     ]
    }
   ],
   "source": [
    "a = 8 / 4\n",
    "print(a)"
   ]
  },
  {
   "cell_type": "code",
   "execution_count": 24,
   "id": "85ccad6d-36c5-4477-b82c-ecdaa9792d24",
   "metadata": {},
   "outputs": [
    {
     "ename": "SyntaxError",
     "evalue": "invalid syntax (743128385.py, line 1)",
     "output_type": "error",
     "traceback": [
      "\u001b[0;36m  Cell \u001b[0;32mIn[24], line 1\u001b[0;36m\u001b[0m\n\u001b[0;31m    The % operator is the modulus operator. It returns the remainder after division.\u001b[0m\n\u001b[0m                          ^\u001b[0m\n\u001b[0;31mSyntaxError\u001b[0m\u001b[0;31m:\u001b[0m invalid syntax\n"
     ]
    }
   ],
   "source": [
    "The % operator is the modulus operator. It returns the remainder after division. "
   ]
  },
  {
   "cell_type": "code",
   "execution_count": 26,
   "id": "8b270335-a117-4de8-ba41-16c7258753eb",
   "metadata": {},
   "outputs": [
    {
     "name": "stdout",
     "output_type": "stream",
     "text": [
      "0\n"
     ]
    }
   ],
   "source": [
    "b = 4 % 2\n",
    "print(b)"
   ]
  },
  {
   "cell_type": "code",
   "execution_count": 27,
   "id": "e98446de-42b0-4b71-83fd-c7b8b314cc3b",
   "metadata": {},
   "outputs": [
    {
     "ename": "SyntaxError",
     "evalue": "invalid syntax (2103859953.py, line 1)",
     "output_type": "error",
     "traceback": [
      "\u001b[0;36m  Cell \u001b[0;32mIn[27], line 1\u001b[0;36m\u001b[0m\n\u001b[0;31m    The // operator is the floor division operator. It performs division similar to the / operator but returns the quotient rounded down to the nearest integer.\u001b[0m\n\u001b[0m                           ^\u001b[0m\n\u001b[0;31mSyntaxError\u001b[0m\u001b[0;31m:\u001b[0m invalid syntax\n"
     ]
    }
   ],
   "source": [
    "The // operator is the floor division operator. It performs division similar to the / operator but returns the quotient rounded down to the nearest integer. \n"
   ]
  },
  {
   "cell_type": "code",
   "execution_count": 28,
   "id": "a20773b2-0b66-40b0-b4dc-a69a43ba3224",
   "metadata": {},
   "outputs": [
    {
     "name": "stdout",
     "output_type": "stream",
     "text": [
      "1\n"
     ]
    }
   ],
   "source": [
    "q = 7 // 5\n",
    "print(q)"
   ]
  },
  {
   "cell_type": "code",
   "execution_count": 29,
   "id": "c6d45e89-035e-4614-a1c0-ae55facdf097",
   "metadata": {},
   "outputs": [
    {
     "ename": "SyntaxError",
     "evalue": "invalid syntax (3839597407.py, line 1)",
     "output_type": "error",
     "traceback": [
      "\u001b[0;36m  Cell \u001b[0;32mIn[29], line 1\u001b[0;36m\u001b[0m\n\u001b[0;31m    The * operator is the multiplication operator. It is used to multiply two numbers together\u001b[0m\n\u001b[0m                          ^\u001b[0m\n\u001b[0;31mSyntaxError\u001b[0m\u001b[0;31m:\u001b[0m invalid syntax\n"
     ]
    }
   ],
   "source": [
    "The * operator is the multiplication operator. It is used to multiply two numbers together\n"
   ]
  },
  {
   "cell_type": "code",
   "execution_count": 30,
   "id": "46312f2d-d401-4089-b9a9-716208780b73",
   "metadata": {},
   "outputs": [
    {
     "name": "stdout",
     "output_type": "stream",
     "text": [
      "60\n"
     ]
    }
   ],
   "source": [
    "m = 6 * 10 \n",
    "print(m)"
   ]
  },
  {
   "cell_type": "code",
   "execution_count": 32,
   "id": "9574d938-5c52-4b57-b2bd-920960e9d551",
   "metadata": {},
   "outputs": [
    {
     "name": "stdout",
     "output_type": "stream",
     "text": [
      "10 <class 'int'>\n",
      "Hello <class 'str'>\n",
      "3.14 <class 'float'>\n",
      "True <class 'bool'>\n",
      "[1, 2, 3] <class 'list'>\n",
      "{'name': 'John', 'age': 25} <class 'dict'>\n",
      "None <class 'NoneType'>\n",
      "(1, 2, 3) <class 'tuple'>\n",
      "OpenAI <class 'str'>\n",
      "False <class 'bool'>\n"
     ]
    }
   ],
   "source": [
    "#Question4\n",
    "\n",
    "my_list = [10, 'Hello', 3.14, True, [1, 2, 3], {'name': 'John', 'age': 25}, None, (1, 2, 3), 'OpenAI', False]\n",
    "\n",
    "for element in my_list:\n",
    "    print(element, type(element))\n"
   ]
  },
  {
   "cell_type": "code",
   "execution_count": 33,
   "id": "3b2a32af-5721-422a-b080-2900e40a77a9",
   "metadata": {},
   "outputs": [
    {
     "ename": "SyntaxError",
     "evalue": "unterminated string literal (detected at line 15) (4264920276.py, line 15)",
     "output_type": "error",
     "traceback": [
      "\u001b[0;36m  Cell \u001b[0;32mIn[33], line 15\u001b[0;36m\u001b[0m\n\u001b[0;31m    It's important to note that var2 and var3 have different representations. var2 is a string representing a list, while var3 is an actual list. The interpretation and usage of these variables will differ depending on their types\u001b[0m\n\u001b[0m      ^\u001b[0m\n\u001b[0;31mSyntaxError\u001b[0m\u001b[0;31m:\u001b[0m unterminated string literal (detected at line 15)\n"
     ]
    }
   ],
   "source": [
    "#Question2\n",
    "\n",
    "(i) var1 = ' ':\n",
    "This variable var1 contains an empty string. It is represented by a pair of single quotes with no characters between them.\n",
    "\n",
    "(ii) var2 = '[ DS , ML , Python]':\n",
    "This variable var2 contains a string. The string is enclosed in single quotes and represents a list of three elements: 'DS', 'ML', and 'Python'. However, note that the elements are enclosed within square brackets and separated by commas as a string representation of a list.\n",
    "\n",
    "(iii) var3 = ['DS', 'ML', 'Python']:\n",
    "This variable var3 contains a list. The list consists of three string elements: 'DS', 'ML', and 'Python'. The elements are enclosed within square brackets and separated by commas.\n",
    "\n",
    "(iv) var4 = 1:\n",
    "This variable var4 contains an integer value. It represents the number 1, which is a whole number without any fractional or decimal part.\n",
    "\n",
    "It's important to note that var2 and var3 have different representations. var2 is a string representing a list, while var3 is an actual list. The interpretation and usage of these variables will differ depending on their types"
   ]
  },
  {
   "cell_type": "code",
   "execution_count": 34,
   "id": "0c90c96d-3cde-4269-961d-97ca703012a4",
   "metadata": {},
   "outputs": [
    {
     "name": "stdout",
     "output_type": "stream",
     "text": [
      "Number of times 3 divides 8 is: 1\n"
     ]
    }
   ],
   "source": [
    "#Question5\n",
    "\n",
    "A = 24  # The number to be divided\n",
    "B = 3   # The number to divide by\n",
    "\n",
    "count = 0  # Counter to keep track of the number of divisions\n",
    "\n",
    "while A % B == 0:\n",
    "    A = A // B\n",
    "    count += 1\n",
    "\n",
    "print(\"Number of times\", B, \"divides\", A, \"is:\", count)\n"
   ]
  },
  {
   "cell_type": "code",
   "execution_count": 35,
   "id": "daf89a51-9b83-407f-9949-b645e7bcefab",
   "metadata": {},
   "outputs": [
    {
     "name": "stdout",
     "output_type": "stream",
     "text": [
      "5 is not divisible by 3\n",
      "9 is divisible by 3\n",
      "12 is divisible by 3\n",
      "18 is divisible by 3\n",
      "21 is divisible by 3\n",
      "25 is not divisible by 3\n",
      "30 is divisible by 3\n",
      "33 is divisible by 3\n",
      "36 is divisible by 3\n",
      "40 is not divisible by 3\n",
      "42 is divisible by 3\n",
      "45 is divisible by 3\n",
      "48 is divisible by 3\n",
      "50 is not divisible by 3\n",
      "54 is divisible by 3\n",
      "57 is divisible by 3\n",
      "60 is divisible by 3\n",
      "63 is divisible by 3\n",
      "66 is divisible by 3\n",
      "70 is not divisible by 3\n",
      "72 is divisible by 3\n",
      "75 is divisible by 3\n",
      "78 is divisible by 3\n",
      "81 is divisible by 3\n",
      "85 is not divisible by 3\n"
     ]
    }
   ],
   "source": [
    "#Question6\n",
    "\n",
    "my_list = [5, 9, 12, 18, 21, 25, 30, 33, 36, 40, 42, 45, 48, 50, 54, 57, 60, 63, 66, 70, 72, 75, 78, 81, 85]\n",
    "\n",
    "for element in my_list:\n",
    "    if element % 3 == 0:\n",
    "        print(element, \"is divisible by 3\")\n",
    "    else:\n",
    "        print(element, \"is not divisible by 3\")\n"
   ]
  },
  {
   "cell_type": "code",
   "execution_count": null,
   "id": "d762d8f6-d7f9-409c-bcf5-7034b524ddd1",
   "metadata": {},
   "outputs": [],
   "source": [
    "#Question7\n"
   ]
  }
 ],
 "metadata": {
  "kernelspec": {
   "display_name": "Python 3 (ipykernel)",
   "language": "python",
   "name": "python3"
  },
  "language_info": {
   "codemirror_mode": {
    "name": "ipython",
    "version": 3
   },
   "file_extension": ".py",
   "mimetype": "text/x-python",
   "name": "python",
   "nbconvert_exporter": "python",
   "pygments_lexer": "ipython3",
   "version": "3.10.8"
  }
 },
 "nbformat": 4,
 "nbformat_minor": 5
}
